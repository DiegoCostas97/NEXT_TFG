{
 "cells": [
  {
   "cell_type": "code",
   "execution_count": 6,
   "metadata": {},
   "outputs": [],
   "source": [
    "%matplotlib inline\n",
    "\n",
    "import os\n",
    "import textwrap\n",
    "import math\n",
    "\n",
    "import datetime as dt\n",
    "import pandas as pd\n",
    "\n",
    "import matplotlib        as mpl\n",
    "import matplotlib.pyplot as plt\n",
    "\n",
    "import numpy             as np\n",
    "import tables            as tb\n",
    "import seaborn as sns\n",
    "\n",
    "#import invisible_cities.core.core_functions as coref\n",
    "#import invisible_cities.core.fit_functions  as fitf\n",
    "\n",
    "from   scipy.optimize                          import curve_fit\n",
    "from   scipy                                   import stats\n",
    "\n",
    "#from   invisible_cities.io.dst_io import df_writer\n",
    "\n",
    "# Formatting options\n",
    "pd.options.display.max_columns = None\n",
    "mpl.rcParams.update({'font.size': 18})\n",
    "mpl.rcParams['image.cmap'] = 'Greys'\n",
    "mpl.rcParams['patch.force_edgecolor'] = False\n",
    "mpl.rcParams['patch.facecolor'] = 'gray'\n",
    "hargs = {'histtype': 'stepfilled', 'edgecolor': 'black', 'facecolor': 'gray'}\n",
    "\n",
    "# Directory to which figures will be stored\n",
    "#save_dir = \"Plots Iniciales\"\n",
    "#ftype = \"pdf\"\n",
    "#if(not os.path.isdir(save_dir)):\n",
    "#    print(\"Creating directory\",save_dir)\n",
    "#    os.mkdir(save_dir)"
   ]
  },
  {
   "cell_type": "code",
   "execution_count": 7,
   "metadata": {},
   "outputs": [],
   "source": [
    "evtfnames_data_with_hits = [r\"/Users/diego/TFG/Mis movidas de Python/ntuple_combined_7746_con_hits.h5\"] \n",
    "evtfnames_MC   = [\"/Users/diego/Dropbox/NEXT/ntuple_combined_MC_6206.h5\",\n",
    "              \"/Users/diego/Dropbox/NEXT/ntuple_combined_MC_6207.h5\",\n",
    "              \"/Users/diego/Dropbox/NEXT/ntuple_combined_MC_6208.h5\",]"
   ]
  },
  {
   "cell_type": "code",
   "execution_count": null,
   "metadata": {},
   "outputs": [
    {
     "name": "stdout",
     "output_type": "stream",
     "text": [
      "Adding file /Users/diego/TFG/Mis movidas de Python/ntuple_combined_7746_con_hits.h5 ...\n"
     ]
    }
   ],
   "source": [
    "cdf = None\n",
    "hits = None\n",
    "\n",
    "for ifile,fname in enumerate(evtfnames_data_with_hits): #SE QUEREMOS VER OS RESULTADOS PARA OS DATOS: *evtfnames_data*\n",
    "\n",
    "    print(\"Adding file {} ...\".format(fname))\n",
    "\n",
    "    ftbl = tb.open_file(fname, 'r')\n",
    "    \n",
    "    fsummary = ftbl.root.Summary.Events\n",
    "    fdst = ftbl.root.DST.Events\n",
    "    ftracks = ftbl.root.Tracking.Tracks\n",
    "    fhits = ftbl.root.CHITS.highTh\n",
    "    \n",
    "    # Read the tables into DataFrames.\n",
    "    to_df = pd.DataFrame.from_records\n",
    "    df_summary = to_df(fsummary.read())\n",
    "    df_tracks = to_df(ftracks.read())\n",
    "    df_dst = to_df(fdst.read())\n",
    "    df_hits = to_df(fhits.read())\n",
    "    \n",
    "    # Drop duplicates in the KDST, selecting the S1 and S2 with highest energy.\n",
    "    # df_dst1 = df_dst.sort_values(['event','S1e','S2e'])[['event','S2e','S1e','nS1','nS2']].drop_duplicates('event',keep='last')\n",
    "    \n",
    "    # Drop duplicates in the TDST, selecting the longest tracks.\n",
    "    # df_tracks = df_tracks.sort_values(['event','length','energy']).drop_duplicates('event',keep='last')\n",
    "    \n",
    "    # Merge into a single dataframe.\n",
    "    df_merge = pd.merge(df_summary, df_dst, on = 'event', how='left')\n",
    "    df_merge = pd.merge(df_merge, df_tracks, on = 'event', how='left')\n",
    "    \n",
    "    # Concatenate with previous runs.\n",
    "    if(cdf is None):\n",
    "        cdf = df_merge\n",
    "    else:\n",
    "        cdf = cdf.append(df_merge)\n",
    "    \n",
    "    if (hits is None):\n",
    "        hits = df_hits\n",
    "    else:\n",
    "        hits = df_hits.append(df_hits)\n",
    "        \n",
    "    ftbl.close()\n",
    "\n",
    "A_evtnum    = cdf['event'].values\n",
    "A_maxtrklen = cdf['length'].values\n",
    "A_maxtrkenergy = cdf['energy'].values\n",
    "A_ntrks     = cdf['evt_ntrks'].values\n",
    "A_nhits     = cdf['evt_nhits'].values\n",
    "A_Ec        = cdf['evt_energy'].values\n",
    "A_xavg      = cdf['evt_x_avg'].values\n",
    "A_yavg      = cdf['evt_y_avg'].values\n",
    "A_zavg      = cdf['evt_z_avg'].values\n",
    "A_ravg      = cdf['evt_r_avg'].values\n",
    "A_xmin      = cdf['evt_x_min'].values\n",
    "A_ymin      = cdf['evt_y_min'].values\n",
    "A_zmin      = cdf['evt_z_min'].values\n",
    "A_xmax      = cdf['evt_x_max'].values\n",
    "A_ymax      = cdf['evt_y_max'].values\n",
    "A_zmax      = cdf['evt_z_max'].values\n",
    "A_rmin      = cdf['evt_r_min'].values\n",
    "A_rmax      = cdf['evt_r_max'].values\n",
    "A_nS1       = cdf['nS1'].values\n",
    "A_S2e       = cdf['S2e'].values\n",
    "\n",
    "print(\"{} total events for Summary df\".format(len(A_evtnum)))\n",
    "print(\"{} total events for Hits df\".format(len(hits['event'].values)))\n",
    "\n",
    "cdf.head(10)"
   ]
  },
  {
   "cell_type": "markdown",
   "metadata": {},
   "source": [
    "# Porcentaxe Número de S2 "
   ]
  },
  {
   "cell_type": "markdown",
   "metadata": {},
   "source": [
    "Hago un histograma que me permita ver el número de pulsos S2 que hay en los eventos que estamos analizando. Podemos ver que predominan los eventos con nS2 = 1, pero también aparecen algunos con 2, 3 o incluso 4 pulsos S2.\n",
    "\n",
    "|    S2           |    %    | \n",
    "| --------------- | ------- |\n",
    "| 1               | 78.315% |\n",
    "| 2               | 18.097% |\n",
    "| 3               | 3.048%  |\n",
    "| 4               | < 1%    |\n",
    "| 5, 6, 7, 8 e 9  | < 1%    |"
   ]
  },
  {
   "cell_type": "code",
   "execution_count": null,
   "metadata": {},
   "outputs": [],
   "source": [
    "bins = np.arange(start=1, stop=11) - 0.5\n",
    "\n",
    "#HISTOGRAMA\n",
    "n, bins, patches = plt.hist(cdf.nS2, bins, edgecolor='black', width=0.8, density = True)\n",
    "plt.xticks(np.arange(start=1, stop=10))\n",
    "plt.xlabel('Nº de eventos S2')\n",
    "plt.ylabel('Contas')\n",
    "\n",
    "#CREO LOS PORCENTAJES\n",
    "#x = stats.describe(cdf.nS2)\n",
    "#a = []\n",
    "#for i in range(len(n)):\n",
    "#    a.append((n[i]/x[0])*100)\n",
    "    \n",
    "print('INFORMACIÓN XENERAL SOBRE S2')\n",
    "print(stats.describe(cdf.nS2.dropna()))\n",
    "#print('')\n",
    "#print('COUNTS')\n",
    "#print('1 S2: {:.3f}%; 2 S2: {:.3f}%; 3 S2: {:.3f}%; 4 S2: {:.3f}%; 5 S2: {:.3f}%;'\n",
    "#      ' 6 S2: {:.3f}%; 7 S2: {:.3f}%; 8 S2: {:.6f}%; 9 S2: {:.6f}%'.format(a[0],a[1],a[2],a[3],a[4],\n",
    "#                                                                                    a[5],a[6],a[7],a[8]))"
   ]
  },
  {
   "cell_type": "markdown",
   "metadata": {},
   "source": [
    "# Nº de S2 == 1"
   ]
  },
  {
   "cell_type": "code",
   "execution_count": null,
   "metadata": {},
   "outputs": [],
   "source": [
    "#PRIMER CORTE\n",
    "one_S2 = cdf[(cdf.nS2 == 1)]\n",
    "\n",
    "bins = np.arange(start=1, stop=9) - 0.5\n",
    "n, bins, patches = plt.hist(one_S2.numb_of_tracks, bins, edgecolor='black', width=0.8)\n",
    "plt.xticks(np.arange(start=1, stop=8))\n",
    "plt.xlabel('Nº de trazas para nS2 == 1')\n",
    "plt.ylabel('Contas')\n",
    "\n",
    "x = stats.describe(one_S2.numb_of_tracks.dropna())\n",
    "a = []\n",
    "for i in range(len(n)):\n",
    "    a.append((n[i]/x[0])*100)\n",
    "\n",
    "b = np.sum(a[1:])\n",
    "\n",
    "print('INFORMACIÓN XENERAL SOBRE AS TRAZAS')\n",
    "print(x)\n",
    "print('')\n",
    "print('CONTAS')\n",
    "print('nS2 == 1 & nTr == 1 --> {:.3f}% \\nnS2 == 1 & nTr == 2 --> {:.3f}% \\nnS2 == 1 & nTr == 3 --> {:.3f}%'\n",
    "      '\\nnS2 == 1 & nTr == 4 --> {:.3f}%'.format(a[0], a[1], a[2], a[3]))"
   ]
  },
  {
   "cell_type": "markdown",
   "metadata": {},
   "source": [
    "# Nº de S2 == 2"
   ]
  },
  {
   "cell_type": "code",
   "execution_count": null,
   "metadata": {},
   "outputs": [],
   "source": [
    "two_S2 = cdf[(cdf.nS2 == 2)]\n",
    "\n",
    "bins = np.arange(start=1, stop=9) - 0.5\n",
    "n, bins, patches = plt.hist(two_S2.numb_of_tracks, bins, edgecolor='black', width=0.8)\n",
    "plt.xticks(np.arange(start=1, stop=8))\n",
    "plt.xlabel('Nº de trazas para nS2 == 2')\n",
    "plt.ylabel('Contas')\n",
    "\n",
    "x = stats.describe(two_S2.numb_of_tracks)\n",
    "a = []\n",
    "for i in range(len(n)):\n",
    "    a.append((n[i]/x[0])*100)\n",
    "\n",
    "b = np.sum(a) - a[1]\n",
    "\n",
    "print('INFORMACIÓN XENERAL SOBRE AS TRAZAS')\n",
    "print(x)\n",
    "print('')\n",
    "print('CONTAS')\n",
    "print('nS2 == 2 & nTr == 1 --> {:.3f}% \\nnS2 == 2 & nTr == 2 --> {:.3f}%, \\nnS2 == 2 & nTr == 3 --> {:.3f}%'\n",
    "      '\\nnS2 == 2 & nTr == 4 --> {:.3f}%, \\nnS2 == 2 & nTr == 5 --> {:.3f}%, \\nnS2 == 2 & nTr == 6 --> {:.3f}%'\n",
    "      '\\nnS2 == 2 & nTr == 7 --> {:.3f}%'.format(a[0], a[1], a[2], a[3], a[4], a[5], a[6]))"
   ]
  },
  {
   "cell_type": "markdown",
   "metadata": {},
   "source": [
    "# Nº de S2 > 2"
   ]
  },
  {
   "cell_type": "code",
   "execution_count": null,
   "metadata": {},
   "outputs": [],
   "source": [
    "large_S2 = cdf[(cdf.nS2 > 2)]\n",
    "\n",
    "bins = np.arange(start=1, stop=10) - 0.5\n",
    "n, bins, patches = plt.hist(large_S2.numb_of_tracks, bins, edgecolor='black', width=0.8)\n",
    "plt.xticks(np.arange(start=1, stop=9))\n",
    "plt.xlabel('Nº de trazas para nS2 > 2')\n",
    "plt.ylabel('Contas')\n",
    "\n",
    "\n",
    "e = 0\n",
    "d = 0\n",
    "\n",
    "for i, j in zip(large_S2.nS2,large_S2.numb_of_tracks):\n",
    "    if i == j:\n",
    "        e += 1\n",
    "    else:\n",
    "        d += 1\n",
    "        \n",
    "f = e/len(large_S2.numb_of_tracks)*100\n",
    "g = d/len(large_S2.numb_of_tracks)*100\n",
    "\n",
    "\n",
    "print('INFORMACIÓN XENERAL SOBRE AS TRAZAS')\n",
    "print(stats.describe(large_S2.numb_of_tracks.dropna()))\n",
    "print('')\n",
    "print('CONTAS')\n",
    "print('nS2 > 2 & nTr == nS2 --> {:.3f}% \\nnS2 > 2 & nTr != nS2 --> {:.3f}%'.format(f, g))"
   ]
  },
  {
   "cell_type": "markdown",
   "metadata": {},
   "source": [
    "# Resultados Para Datos *Monte Carlo*\n",
    "\n",
    "Presentamos en esta tabla los resultados del análisis del número de S2 frente al número de trazas, que nos proporciona resultados en un principio desconcertantes como, por ejemplo, que para eventos en los que nS2 == 2 tengamos exclusivamente una traza.\n",
    "\n",
    "|   nS2 \\ nTr | 1       | 2       | 3        | 4      | 5    | 6    | 7    |  \n",
    "| ----------- | ------- | ------- | -------- | ------ | ---- | ---- | ---- |\n",
    "| 1           | 77.795% | 17.888% | 3.614%   | < 1%   | < 1% | < 1% | < 1% |\n",
    "| 2           | 16.502% | 65.885% | 14. 833% | 2.409% | < 1% | < 1% | < 1% |\n",
    "\n",
    "A mayores, tenemos como generalización de la tabla anterior otra en la que establecemos una relación más general. Esta vez comparamos los eventos en los que coinciden o difieren nS2 y el número de trazas para ese mismo evento (para nS2 > 2).\n",
    "\n",
    "| nS2 \\ nTr   | == nS2  | != nS2  |\n",
    "| ----------- | ------- | ------- |\n",
    "| > 2         | 42.511% | 57.489% |"
   ]
  },
  {
   "cell_type": "markdown",
   "metadata": {},
   "source": [
    "# Resultados Para Datos *Reales*\n",
    "\n",
    "Presentamos en esta tabla los resultados del análisis del número de S2 frente al número de trazas, que nos proporciona resultados en un principio desconcertantes como, por ejemplo, que para eventos en los que nS2 == 2 tengamos exclusivamente una traza.\n",
    "\n",
    "| nS2 \\ nTr   | 1       | 2       | 3        | 4      | 5    | 6    | 7    |  \n",
    "| ----------- | ------- | ------- | -------- | ------ | ---- | ---- | ---- |\n",
    "| 1           | 94.832% |  4.672% | < 1%     | < 1%   | < 1% | < 1% | < 1% |\n",
    "| 2           | 34.744% | 60.284% | 4.513%   | < 1%   | < 1% | < 1% | < 1% |\n",
    "\n",
    "A mayores, tenemos como generalización de la tabla anterior otra en la que establecemos una relación más general. Esta vez comparamos los eventos en los que coinciden o difieren nS2 y el número de trazas para ese mismo evento (para nS2 > 2).\n",
    "\n",
    "| nS2 \\ nTr   | == nS2  | != nS2  |\n",
    "| ----------- | ------- | ------- |\n",
    "| > 2         | 39.575% | 60.425% |"
   ]
  },
  {
   "cell_type": "markdown",
   "metadata": {},
   "source": [
    "# nTr != nS2"
   ]
  },
  {
   "cell_type": "markdown",
   "metadata": {},
   "source": [
    "Queremos hilar un poco fino que antes, de manera que ahora subdividimos este apartado ya existente en otros dos. Cuando el número de trazas es **mayor** que el número de pulsos S2, y cuando este es **menor**."
   ]
  },
  {
   "cell_type": "code",
   "execution_count": null,
   "metadata": {},
   "outputs": [],
   "source": [
    "large_S2 = cdf[(cdf.nS2 > 2)]\n",
    "\n",
    "a = 0 #acumulador para ntr > ns2\n",
    "b = 0 #acumulador para ntr < ns2\n",
    "non_equal = []\n",
    "\n",
    "for nS2, ntr in zip(large_S2.nS2,large_S2.numb_of_tracks):\n",
    "    if ntr != nS2:\n",
    "        non_equal.append(ntr)\n",
    "        if ntr > nS2:\n",
    "            a += 1\n",
    "        else:\n",
    "            b += 1    \n",
    "\n",
    "#Porcentaxes:\n",
    "c = a/len(non_equal)*100\n",
    "d = b/len(non_equal)*100\n",
    "\n",
    "print(a,b,c,d)"
   ]
  },
  {
   "cell_type": "markdown",
   "metadata": {},
   "source": [
    "Para os eventos en que o número de trazas que aparecen difire do número de pulsos S2, vemos que predominan (evidentemente(?)) os eventos en que o número de trazas é menor que o número de pulsos. Aínda así, hai unha importante proporción de eventos nos que nTr supera a nS2, como vemos na táboa. Isto todavía non somos capaces de explicalo.\n",
    "\n",
    "|               | nTr > nS2 | nTr < nS2 |\n",
    "| ------------- | --------- | --------- |\n",
    "| %             | 7.139%    | 92.862%   |\n",
    "| nº de eventos | 932       | 12008     |"
   ]
  },
  {
   "cell_type": "code",
   "execution_count": null,
   "metadata": {},
   "outputs": [],
   "source": []
  }
 ],
 "metadata": {
  "kernelspec": {
   "display_name": "Python 3",
   "language": "python",
   "name": "python3"
  },
  "language_info": {
   "codemirror_mode": {
    "name": "ipython",
    "version": 3
   },
   "file_extension": ".py",
   "mimetype": "text/x-python",
   "name": "python",
   "nbconvert_exporter": "python",
   "pygments_lexer": "ipython3",
   "version": "3.7.7"
  }
 },
 "nbformat": 4,
 "nbformat_minor": 4
}
