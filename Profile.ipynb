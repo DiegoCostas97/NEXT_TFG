{
 "cells": [
  {
   "cell_type": "code",
   "execution_count": 6,
   "metadata": {},
   "outputs": [],
   "source": [
    "def profile_plot(x,y):\n",
    "    a = []\n",
    "    b = []\n",
    "    for i,j in zip(x, y):\n",
    "        if((not math.isnan(i)) and (not math.isnan(j))):\n",
    "            a.append(i)\n",
    "            b.append(j)\n",
    "\n",
    "    c = np.asarray(a)\n",
    "    d = np.asarray(b)\n",
    "\n",
    "    means_result = stats.binned_statistic(c,[d, d**2] , bins=20, range=(0.15,3.23), statistic='mean')\n",
    "    means, means2 = means_result.statistic\n",
    "    standard_deviations = np.sqrt(means2 - means**2)\n",
    "    bin_edges = means_result.bin_edges\n",
    "    bin_centers = (bin_edges[:-1] + bin_edges[1:])/2.\n",
    "\n",
    "    print(means)\n",
    "    print('')\n",
    "    print(bin_centers)\n",
    "    print('')\n",
    "    print(standard_deviations)\n",
    "\n",
    "    plt.errorbar(x=bin_centers, y=means, yerr=standard_deviations, linestyle='none', marker='.')"
   ]
  },
  {
   "cell_type": "code",
   "execution_count": null,
   "metadata": {},
   "outputs": [],
   "source": []
  }
 ],
 "metadata": {
  "kernelspec": {
   "display_name": "Python 3",
   "language": "python",
   "name": "python3"
  },
  "language_info": {
   "codemirror_mode": {
    "name": "ipython",
    "version": 3
   },
   "file_extension": ".py",
   "mimetype": "text/x-python",
   "name": "python",
   "nbconvert_exporter": "python",
   "pygments_lexer": "ipython3",
   "version": "3.7.7"
  }
 },
 "nbformat": 4,
 "nbformat_minor": 4
}
